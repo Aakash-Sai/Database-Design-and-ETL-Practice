{
 "cells": [
  {
   "cell_type": "markdown",
   "metadata": {},
   "source": [
    "## Database exploration"
   ]
  },
  {
   "cell_type": "code",
   "execution_count": 1,
   "metadata": {},
   "outputs": [
    {
     "data": {
      "text/plain": [
       "'Connected: @/dsa/data/DSA-7030/cc23_7030.sqlite.db'"
      ]
     },
     "execution_count": 1,
     "metadata": {},
     "output_type": "execute_result"
    }
   ],
   "source": [
    "#Load extention and connect to database\n",
    "%load_ext sql\n",
    "%sql sqlite:////dsa/data/DSA-7030/cc23_7030.sqlite.db"
   ]
  },
  {
   "cell_type": "markdown",
   "metadata": {},
   "source": [
    "### Exploring the SQLite Tables "
   ]
  },
  {
   "cell_type": "code",
   "execution_count": 2,
   "metadata": {},
   "outputs": [
    {
     "name": "stdout",
     "output_type": "stream",
     "text": [
      " * sqlite:////dsa/data/DSA-7030/cc23_7030.sqlite.db\n",
      "Done.\n"
     ]
    },
    {
     "data": {
      "text/html": [
       "<table>\n",
       "    <tr>\n",
       "        <th>type</th>\n",
       "        <th>tbl_name</th>\n",
       "    </tr>\n",
       "    <tr>\n",
       "        <td>table</td>\n",
       "        <td>cc23_case_location</td>\n",
       "    </tr>\n",
       "    <tr>\n",
       "        <td>table</td>\n",
       "        <td>cc23_cases</td>\n",
       "    </tr>\n",
       "    <tr>\n",
       "        <td>table</td>\n",
       "        <td>cc23_fbi_nibrs_categories</td>\n",
       "    </tr>\n",
       "    <tr>\n",
       "        <td>table</td>\n",
       "        <td>cc23_fbi_nibrs_offense_categories</td>\n",
       "    </tr>\n",
       "    <tr>\n",
       "        <td>table</td>\n",
       "        <td>cc23_iucr_codes</td>\n",
       "    </tr>\n",
       "    <tr>\n",
       "        <td>table</td>\n",
       "        <td>cc23_iucr_codes_primary_descriptions</td>\n",
       "    </tr>\n",
       "    <tr>\n",
       "        <td>table</td>\n",
       "        <td>cc23_iucr_codes_secondary_descriptions</td>\n",
       "    </tr>\n",
       "    <tr>\n",
       "        <td>table</td>\n",
       "        <td>cc23_nibrs_crimes_against</td>\n",
       "    </tr>\n",
       "    <tr>\n",
       "        <td>table</td>\n",
       "        <td>cc23_nibrs_fbicode_offenses</td>\n",
       "    </tr>\n",
       "    <tr>\n",
       "        <td>table</td>\n",
       "        <td>cc23_nibrs_offenses_crimes_aginst</td>\n",
       "    </tr>\n",
       "</table>"
      ],
      "text/plain": [
       "[('table', 'cc23_case_location'),\n",
       " ('table', 'cc23_cases'),\n",
       " ('table', 'cc23_fbi_nibrs_categories'),\n",
       " ('table', 'cc23_fbi_nibrs_offense_categories'),\n",
       " ('table', 'cc23_iucr_codes'),\n",
       " ('table', 'cc23_iucr_codes_primary_descriptions'),\n",
       " ('table', 'cc23_iucr_codes_secondary_descriptions'),\n",
       " ('table', 'cc23_nibrs_crimes_against'),\n",
       " ('table', 'cc23_nibrs_fbicode_offenses'),\n",
       " ('table', 'cc23_nibrs_offenses_crimes_aginst')]"
      ]
     },
     "execution_count": 2,
     "metadata": {},
     "output_type": "execute_result"
    }
   ],
   "source": [
    "%%sql\n",
    "SELECT distinct m.type, m.tbl_name --m.sql\n",
    "FROM sqlite_master AS m,\n",
    "     pragma_table_info(m.name) AS t\n",
    "WHERE m.type = 'table'\n",
    "order by m.name, t.pk DESC"
   ]
  },
  {
   "cell_type": "markdown",
   "metadata": {},
   "source": [
    "### Exploring Column Details"
   ]
  },
  {
   "cell_type": "code",
   "execution_count": 3,
   "metadata": {
    "scrolled": true
   },
   "outputs": [
    {
     "name": "stdout",
     "output_type": "stream",
     "text": [
      " * sqlite:////dsa/data/DSA-7030/cc23_7030.sqlite.db\n",
      "Done.\n"
     ]
    },
    {
     "data": {
      "text/html": [
       "<table>\n",
       "    <tr>\n",
       "        <th>tbl_name</th>\n",
       "        <th>cid</th>\n",
       "        <th>name</th>\n",
       "        <th>type</th>\n",
       "        <th>notnull</th>\n",
       "        <th>dflt_value</th>\n",
       "        <th>pk</th>\n",
       "    </tr>\n",
       "    <tr>\n",
       "        <td>cc23_iucr_codes</td>\n",
       "        <td>0</td>\n",
       "        <td>iucr_code</td>\n",
       "        <td>varchar(10)</td>\n",
       "        <td>0</td>\n",
       "        <td>None</td>\n",
       "        <td>1</td>\n",
       "    </tr>\n",
       "    <tr>\n",
       "        <td>cc23_iucr_codes</td>\n",
       "        <td>1</td>\n",
       "        <td>iucr_index_code</td>\n",
       "        <td>char</td>\n",
       "        <td>0</td>\n",
       "        <td>None</td>\n",
       "        <td>0</td>\n",
       "    </tr>\n",
       "    <tr>\n",
       "        <td>cc23_iucr_codes_primary_descriptions</td>\n",
       "        <td>0</td>\n",
       "        <td>iucr_code</td>\n",
       "        <td>varchar(10)</td>\n",
       "        <td>0</td>\n",
       "        <td>None</td>\n",
       "        <td>1</td>\n",
       "    </tr>\n",
       "    <tr>\n",
       "        <td>cc23_iucr_codes_primary_descriptions</td>\n",
       "        <td>1</td>\n",
       "        <td>iucr_primary_desc</td>\n",
       "        <td>varchar(100)</td>\n",
       "        <td>0</td>\n",
       "        <td>None</td>\n",
       "        <td>0</td>\n",
       "    </tr>\n",
       "    <tr>\n",
       "        <td>cc23_iucr_codes_secondary_descriptions</td>\n",
       "        <td>0</td>\n",
       "        <td>iucr_code</td>\n",
       "        <td>varchar(10)</td>\n",
       "        <td>0</td>\n",
       "        <td>None</td>\n",
       "        <td>1</td>\n",
       "    </tr>\n",
       "    <tr>\n",
       "        <td>cc23_iucr_codes_secondary_descriptions</td>\n",
       "        <td>1</td>\n",
       "        <td>iucr_secondary_desc</td>\n",
       "        <td>varchar(100)</td>\n",
       "        <td>0</td>\n",
       "        <td>None</td>\n",
       "        <td>0</td>\n",
       "    </tr>\n",
       "    <tr>\n",
       "        <td>cc23_fbi_nibrs_categories</td>\n",
       "        <td>0</td>\n",
       "        <td>fbi_nibrs_category_name</td>\n",
       "        <td>varchar(50)</td>\n",
       "        <td>0</td>\n",
       "        <td>None</td>\n",
       "        <td>1</td>\n",
       "    </tr>\n",
       "    <tr>\n",
       "        <td>cc23_fbi_nibrs_offense_categories</td>\n",
       "        <td>0</td>\n",
       "        <td>nibrs_offense_code</td>\n",
       "        <td>varchar(10)</td>\n",
       "        <td>1</td>\n",
       "        <td>None</td>\n",
       "        <td>1</td>\n",
       "    </tr>\n",
       "    <tr>\n",
       "        <td>cc23_fbi_nibrs_offense_categories</td>\n",
       "        <td>1</td>\n",
       "        <td>fbi_nibrs_category_name</td>\n",
       "        <td>varchar(50)</td>\n",
       "        <td>0</td>\n",
       "        <td>None</td>\n",
       "        <td>0</td>\n",
       "    </tr>\n",
       "    <tr>\n",
       "        <td>cc23_nibrs_crimes_against</td>\n",
       "        <td>0</td>\n",
       "        <td>nibrs_crime_against</td>\n",
       "        <td>varchar(20)</td>\n",
       "        <td>1</td>\n",
       "        <td>None</td>\n",
       "        <td>1</td>\n",
       "    </tr>\n",
       "    <tr>\n",
       "        <td>cc23_cases</td>\n",
       "        <td>0</td>\n",
       "        <td>case_number</td>\n",
       "        <td>varchar(20)</td>\n",
       "        <td>0</td>\n",
       "        <td>None</td>\n",
       "        <td>1</td>\n",
       "    </tr>\n",
       "    <tr>\n",
       "        <td>cc23_cases</td>\n",
       "        <td>1</td>\n",
       "        <td>incident_date</td>\n",
       "        <td>timestamp</td>\n",
       "        <td>0</td>\n",
       "        <td>None</td>\n",
       "        <td>0</td>\n",
       "    </tr>\n",
       "    <tr>\n",
       "        <td>cc23_cases</td>\n",
       "        <td>2</td>\n",
       "        <td>iucr_code</td>\n",
       "        <td>varchar(10)</td>\n",
       "        <td>0</td>\n",
       "        <td>None</td>\n",
       "        <td>0</td>\n",
       "    </tr>\n",
       "    <tr>\n",
       "        <td>cc23_cases</td>\n",
       "        <td>3</td>\n",
       "        <td>nibrs_fbi_offense_code</td>\n",
       "        <td>varchar(10)</td>\n",
       "        <td>0</td>\n",
       "        <td>None</td>\n",
       "        <td>0</td>\n",
       "    </tr>\n",
       "    <tr>\n",
       "        <td>cc23_cases</td>\n",
       "        <td>4</td>\n",
       "        <td>arrest</td>\n",
       "        <td>boolean</td>\n",
       "        <td>0</td>\n",
       "        <td>None</td>\n",
       "        <td>0</td>\n",
       "    </tr>\n",
       "    <tr>\n",
       "        <td>cc23_cases</td>\n",
       "        <td>5</td>\n",
       "        <td>domestic</td>\n",
       "        <td>boolean</td>\n",
       "        <td>0</td>\n",
       "        <td>None</td>\n",
       "        <td>0</td>\n",
       "    </tr>\n",
       "    <tr>\n",
       "        <td>cc23_cases</td>\n",
       "        <td>6</td>\n",
       "        <td>updated_on</td>\n",
       "        <td>timestamp</td>\n",
       "        <td>0</td>\n",
       "        <td>None</td>\n",
       "        <td>0</td>\n",
       "    </tr>\n",
       "    <tr>\n",
       "        <td>cc23_nibrs_fbicode_offenses</td>\n",
       "        <td>0</td>\n",
       "        <td>nibrs_offense_code</td>\n",
       "        <td>varchar(10)</td>\n",
       "        <td>1</td>\n",
       "        <td>None</td>\n",
       "        <td>1</td>\n",
       "    </tr>\n",
       "    <tr>\n",
       "        <td>cc23_nibrs_fbicode_offenses</td>\n",
       "        <td>1</td>\n",
       "        <td>nibrs_offense_name</td>\n",
       "        <td>varchar(100)</td>\n",
       "        <td>1</td>\n",
       "        <td>None</td>\n",
       "        <td>0</td>\n",
       "    </tr>\n",
       "    <tr>\n",
       "        <td>cc23_nibrs_offenses_crimes_aginst</td>\n",
       "        <td>0</td>\n",
       "        <td>nibrs_crime_against</td>\n",
       "        <td>varchar(20)</td>\n",
       "        <td>0</td>\n",
       "        <td>None</td>\n",
       "        <td>1</td>\n",
       "    </tr>\n",
       "    <tr>\n",
       "        <td>cc23_nibrs_offenses_crimes_aginst</td>\n",
       "        <td>1</td>\n",
       "        <td>nibrs_offense_code</td>\n",
       "        <td>varchar(10)</td>\n",
       "        <td>1</td>\n",
       "        <td>None</td>\n",
       "        <td>2</td>\n",
       "    </tr>\n",
       "    <tr>\n",
       "        <td>cc23_case_location</td>\n",
       "        <td>0</td>\n",
       "        <td>case_number</td>\n",
       "        <td>varchar(20)</td>\n",
       "        <td>0</td>\n",
       "        <td>None</td>\n",
       "        <td>1</td>\n",
       "    </tr>\n",
       "    <tr>\n",
       "        <td>cc23_case_location</td>\n",
       "        <td>1</td>\n",
       "        <td>block</td>\n",
       "        <td>varchar(100)</td>\n",
       "        <td>0</td>\n",
       "        <td>None</td>\n",
       "        <td>0</td>\n",
       "    </tr>\n",
       "    <tr>\n",
       "        <td>cc23_case_location</td>\n",
       "        <td>2</td>\n",
       "        <td>location_description</td>\n",
       "        <td>varchar(100)</td>\n",
       "        <td>0</td>\n",
       "        <td>None</td>\n",
       "        <td>0</td>\n",
       "    </tr>\n",
       "    <tr>\n",
       "        <td>cc23_case_location</td>\n",
       "        <td>3</td>\n",
       "        <td>community_area</td>\n",
       "        <td>integer</td>\n",
       "        <td>0</td>\n",
       "        <td>None</td>\n",
       "        <td>0</td>\n",
       "    </tr>\n",
       "    <tr>\n",
       "        <td>cc23_case_location</td>\n",
       "        <td>4</td>\n",
       "        <td>ward</td>\n",
       "        <td>integer</td>\n",
       "        <td>0</td>\n",
       "        <td>None</td>\n",
       "        <td>0</td>\n",
       "    </tr>\n",
       "    <tr>\n",
       "        <td>cc23_case_location</td>\n",
       "        <td>5</td>\n",
       "        <td>district</td>\n",
       "        <td>integer</td>\n",
       "        <td>0</td>\n",
       "        <td>None</td>\n",
       "        <td>0</td>\n",
       "    </tr>\n",
       "    <tr>\n",
       "        <td>cc23_case_location</td>\n",
       "        <td>6</td>\n",
       "        <td>beat</td>\n",
       "        <td>integer</td>\n",
       "        <td>0</td>\n",
       "        <td>None</td>\n",
       "        <td>0</td>\n",
       "    </tr>\n",
       "    <tr>\n",
       "        <td>cc23_case_location</td>\n",
       "        <td>7</td>\n",
       "        <td>latitude</td>\n",
       "        <td>real</td>\n",
       "        <td>0</td>\n",
       "        <td>None</td>\n",
       "        <td>0</td>\n",
       "    </tr>\n",
       "    <tr>\n",
       "        <td>cc23_case_location</td>\n",
       "        <td>8</td>\n",
       "        <td>longitude</td>\n",
       "        <td>real</td>\n",
       "        <td>0</td>\n",
       "        <td>None</td>\n",
       "        <td>0</td>\n",
       "    </tr>\n",
       "</table>"
      ],
      "text/plain": [
       "[('cc23_iucr_codes', 0, 'iucr_code', 'varchar(10)', 0, None, 1),\n",
       " ('cc23_iucr_codes', 1, 'iucr_index_code', 'char', 0, None, 0),\n",
       " ('cc23_iucr_codes_primary_descriptions', 0, 'iucr_code', 'varchar(10)', 0, None, 1),\n",
       " ('cc23_iucr_codes_primary_descriptions', 1, 'iucr_primary_desc', 'varchar(100)', 0, None, 0),\n",
       " ('cc23_iucr_codes_secondary_descriptions', 0, 'iucr_code', 'varchar(10)', 0, None, 1),\n",
       " ('cc23_iucr_codes_secondary_descriptions', 1, 'iucr_secondary_desc', 'varchar(100)', 0, None, 0),\n",
       " ('cc23_fbi_nibrs_categories', 0, 'fbi_nibrs_category_name', 'varchar(50)', 0, None, 1),\n",
       " ('cc23_fbi_nibrs_offense_categories', 0, 'nibrs_offense_code', 'varchar(10)', 1, None, 1),\n",
       " ('cc23_fbi_nibrs_offense_categories', 1, 'fbi_nibrs_category_name', 'varchar(50)', 0, None, 0),\n",
       " ('cc23_nibrs_crimes_against', 0, 'nibrs_crime_against', 'varchar(20)', 1, None, 1),\n",
       " ('cc23_cases', 0, 'case_number', 'varchar(20)', 0, None, 1),\n",
       " ('cc23_cases', 1, 'incident_date', 'timestamp', 0, None, 0),\n",
       " ('cc23_cases', 2, 'iucr_code', 'varchar(10)', 0, None, 0),\n",
       " ('cc23_cases', 3, 'nibrs_fbi_offense_code', 'varchar(10)', 0, None, 0),\n",
       " ('cc23_cases', 4, 'arrest', 'boolean', 0, None, 0),\n",
       " ('cc23_cases', 5, 'domestic', 'boolean', 0, None, 0),\n",
       " ('cc23_cases', 6, 'updated_on', 'timestamp', 0, None, 0),\n",
       " ('cc23_nibrs_fbicode_offenses', 0, 'nibrs_offense_code', 'varchar(10)', 1, None, 1),\n",
       " ('cc23_nibrs_fbicode_offenses', 1, 'nibrs_offense_name', 'varchar(100)', 1, None, 0),\n",
       " ('cc23_nibrs_offenses_crimes_aginst', 0, 'nibrs_crime_against', 'varchar(20)', 0, None, 1),\n",
       " ('cc23_nibrs_offenses_crimes_aginst', 1, 'nibrs_offense_code', 'varchar(10)', 1, None, 2),\n",
       " ('cc23_case_location', 0, 'case_number', 'varchar(20)', 0, None, 1),\n",
       " ('cc23_case_location', 1, 'block', 'varchar(100)', 0, None, 0),\n",
       " ('cc23_case_location', 2, 'location_description', 'varchar(100)', 0, None, 0),\n",
       " ('cc23_case_location', 3, 'community_area', 'integer', 0, None, 0),\n",
       " ('cc23_case_location', 4, 'ward', 'integer', 0, None, 0),\n",
       " ('cc23_case_location', 5, 'district', 'integer', 0, None, 0),\n",
       " ('cc23_case_location', 6, 'beat', 'integer', 0, None, 0),\n",
       " ('cc23_case_location', 7, 'latitude', 'real', 0, None, 0),\n",
       " ('cc23_case_location', 8, 'longitude', 'real', 0, None, 0)]"
      ]
     },
     "execution_count": 3,
     "metadata": {},
     "output_type": "execute_result"
    }
   ],
   "source": [
    "%%sql \n",
    "SELECT m.tbl_name, t.* --m.sql\n",
    " FROM pragma_table_info(m.tbl_name) t, sqlite_master m WHERE m.type='table';"
   ]
  },
  {
   "cell_type": "markdown",
   "metadata": {},
   "source": [
    "# SQL create table statements"
   ]
  },
  {
   "cell_type": "code",
   "execution_count": null,
   "metadata": {},
   "outputs": [],
   "source": [
    "# cc23_case_location\n",
    "\n",
    "CREATE TABLE asubv5.cc23_case_location (\n",
    "    case_number varchar(20) unique,\n",
    "    block varchar(100),\n",
    "    location_description varchar(100),\n",
    "    community_area integer,\n",
    "    ward integer,\n",
    "    district integer,\n",
    "    beat integer,\n",
    "    latitude real,\n",
    "    longitude real,\n",
    "    PRIMARY KEY (case_number)\n",
    ");\n"
   ]
  },
  {
   "cell_type": "code",
   "execution_count": null,
   "metadata": {},
   "outputs": [],
   "source": [
    "# cc23_cases\n",
    "\n",
    "CREATE TABLE asubv5.cc23_cases (\n",
    "    case_number varchar(20) unique,\n",
    "    incident_date timestamp,\n",
    "    iucr_code varchar(10),\n",
    "    nibrs_fbi_offense_code varchar(10),\n",
    "    arrest boolean,\n",
    "    domestic boolean,\n",
    "    updated_on timestamp,\n",
    "    PRIMARY KEY (case_number),\n",
    "    FOREIGN KEY (iucr_code) REFERENCES asubv5.cc23_iucr_codes(iucr_code),\n",
    "    FOREIGN KEY (nibrs_fbi_offense_code) REFERENCES asubv5.cc23_nibrs_fbicode_offenses(nibrs_offense_code),\n",
    "    FOREIGN KEY (case_number) REFERENCES asubv5.cc23_case_location(case_number)\n",
    ");\n"
   ]
  },
  {
   "cell_type": "code",
   "execution_count": null,
   "metadata": {},
   "outputs": [],
   "source": [
    "# cc23_fbi_nibrs_categories\n",
    "\n",
    "CREATE TABLE asubv5.cc23_fbi_nibrs_categories (\n",
    "    fbi_nibrs_category_name varchar(50) PRIMARY KEY\n",
    ");"
   ]
  },
  {
   "cell_type": "code",
   "execution_count": null,
   "metadata": {},
   "outputs": [],
   "source": [
    "# cc23_fbi_nibrs_offense_categories\n",
    "\n",
    "CREATE TABLE asubv5.cc23_fbi_nibrs_offense_categories (\n",
    "    nibrs_offense_code varchar(10) NOT NULL,\n",
    "    fbi_nibrs_category_name varchar(50),\n",
    "    PRIMARY KEY (nibrs_offense_code),\n",
    "    FOREIGN KEY (fbi_nibrs_category_name) REFERENCES asubv5.cc23_fbi_nibrs_categories(fbi_nibrs_category_name)\n",
    ");\n"
   ]
  },
  {
   "cell_type": "code",
   "execution_count": null,
   "metadata": {},
   "outputs": [],
   "source": [
    "# cc23_iucr_codes\n",
    "\n",
    "CREATE TABLE asubv5.cc23_iucr_codes (\n",
    "iucr_code varchar(10) unique,\n",
    "iucr_index_code char,\n",
    "PRIMARY KEY (iucr_code)\n",
    ");\n"
   ]
  },
  {
   "cell_type": "code",
   "execution_count": null,
   "metadata": {},
   "outputs": [],
   "source": [
    "# cc23_iucr_codes_primary_descriptions\n",
    "\n",
    "CREATE TABLE asubv5.cc23_iucr_codes_primary_descriptions (\n",
    "iucr_code varchar(10),\n",
    "iucr_primary_desc varchar(100),\n",
    "PRIMARY KEY (iucr_code),\n",
    "FOREIGN KEY (iucr_code) REFERENCES asubv5.cc23_iucr_codes(iucr_code) # good\n",
    ");\n"
   ]
  },
  {
   "cell_type": "code",
   "execution_count": null,
   "metadata": {},
   "outputs": [],
   "source": [
    "# cc23_iucr_codes_secondary_descriptions\n",
    "\n",
    "CREATE TABLE asubv5.cc23_iucr_codes_secondary_descriptions (\n",
    "iucr_code varchar(10),\n",
    "iucr_secondary_desc varchar(100),\n",
    "PRIMARY KEY (iucr_code),\n",
    "FOREIGN KEY (iucr_code) REFERENCES asubv5.cc23_iucr_codes(iucr_code) # good\n",
    ");\n"
   ]
  },
  {
   "cell_type": "code",
   "execution_count": null,
   "metadata": {},
   "outputs": [],
   "source": [
    "# cc23_nibrs_crimes_against\n",
    "\n",
    "CREATE TABLE asubv5.cc23_nibrs_crimes_against (\n",
    "nibrs_crime_against varchar(20) unique NOT NULL,\n",
    "PRIMARY KEY (nibrs_crime_against)\n",
    ");\n"
   ]
  },
  {
   "cell_type": "code",
   "execution_count": null,
   "metadata": {},
   "outputs": [],
   "source": [
    "# cc23_nibrs_fbicode_offenses\n",
    "\n",
    "CREATE TABLE asubv5.cc23_nibrs_fbicode_offenses (\n",
    "nibrs_offense_code varchar(10) unique NOT NULL,\n",
    "nibrs_offense_name varchar(100) NOT NULL,\n",
    "PRIMARY KEY (nibrs_offense_code),\n",
    "FOREIGN KEY (nibrs_offense_code) REFERENCES asubv5.cc23_fbi_nibrs_offense_categories(nibrs_offense_code)\n",
    ");"
   ]
  },
  {
   "cell_type": "code",
   "execution_count": null,
   "metadata": {},
   "outputs": [],
   "source": [
    "# cc23_nibrs_offenses_crimes_aginst\n",
    "\n",
    "CREATE TABLE asubv5.cc23_nibrs_offenses_crimes_aginst (\n",
    "nibrs_crime_against varchar(20),\n",
    "nibrs_offense_code varchar(10) NOT NULL,\n",
    "PRIMARY KEY (nibrs_crime_against,nibrs_offense_code),\n",
    "FOREIGN KEY (nibrs_crime_against) REFERENCES asubv5.cc23_nibrs_crimes_against(nibrs_crime_against),\n",
    "FOREIGN KEY (nibrs_offense_code) REFERENCES asubv5.cc23_nibrs_fbicode_offenses(nibrs_offense_code)\n",
    ");"
   ]
  },
  {
   "cell_type": "markdown",
   "metadata": {},
   "source": [
    "# Connection to my postgres database"
   ]
  },
  {
   "cell_type": "code",
   "execution_count": null,
   "metadata": {},
   "outputs": [],
   "source": [
    "# connection\n",
    "import getpass\n",
    "mypasswd = getpass.getpass()\n",
    "username = 'asubv5'\n",
    "host = 'pgsql.dsa.lan'\n",
    "database = 'dsa_student'"
   ]
  },
  {
   "cell_type": "code",
   "execution_count": 2,
   "metadata": {},
   "outputs": [],
   "source": [
    "from sqlalchemy.engine.url import URL\n",
    "from sqlalchemy import create_engine\n",
    "\n",
    "postgres_db = {'drivername': 'postgres',\n",
    "               'username': username,\n",
    "               'password': mypasswd,\n",
    "               'host': host,\n",
    "               'database' :database}\n",
    "engine = create_engine(URL(**postgres_db), echo=True)"
   ]
  },
  {
   "cell_type": "code",
   "execution_count": null,
   "metadata": {},
   "outputs": [],
   "source": [
    "# Drop tables"
   ]
  },
  {
   "cell_type": "code",
   "execution_count": null,
   "metadata": {},
   "outputs": [],
   "source": [
    "engine.execute('DROP TABLE IF EXISTS asubv5.cc23_case_location CASCADE;')\n",
    "engine.execute('DROP TABLE IF EXISTS asubv5.cc23_cases CASCADE;')\n",
    "engine.execute('DROP TABLE IF EXISTS asubv5.cc23_fbi_nibrs_offense_categories CASCADE;')\n",
    "engine.execute('DROP TABLE IF EXISTS asubv5.cc23_fbi_nibrs_categories CASCADE;')\n",
    "engine.execute('DROP TABLE IF EXISTS asubv5.cc23_iucr_codes CASCADE;')\n",
    "engine.execute('DROP TABLE IF EXISTS asubv5.cc23_iucr_codes_primary_descriptions CASCADE;')\n",
    "engine.execute('DROP TABLE IF EXISTS asubv5.cc23_iucr_codes_secondary_descriptions CASCADE;')\n",
    "engine.execute('DROP TABLE IF EXISTS asubv5.cc23_nibrs_crimes_against CASCADE;')\n",
    "engine.execute('DROP TABLE IF EXISTS asubv5.cc23_nibrs_fbicode_offenses CASCADE;')\n",
    "engine.execute('DROP TABLE IF EXISTS asubv5.cc23_nibrs_offenses_crimes_aginst CASCADE;')"
   ]
  },
  {
   "cell_type": "markdown",
   "metadata": {},
   "source": [
    "# Implementing tables in my database"
   ]
  },
  {
   "cell_type": "code",
   "execution_count": 3,
   "metadata": {},
   "outputs": [
    {
     "name": "stdout",
     "output_type": "stream",
     "text": [
      "2023-12-05 12:53:14,159 INFO sqlalchemy.engine.base.Engine select version()\n",
      "2023-12-05 12:53:14,160 INFO sqlalchemy.engine.base.Engine {}\n",
      "2023-12-05 12:53:14,163 INFO sqlalchemy.engine.base.Engine select current_schema()\n",
      "2023-12-05 12:53:14,163 INFO sqlalchemy.engine.base.Engine {}\n",
      "2023-12-05 12:53:14,166 INFO sqlalchemy.engine.base.Engine SELECT CAST('test plain returns' AS VARCHAR(60)) AS anon_1\n",
      "2023-12-05 12:53:14,166 INFO sqlalchemy.engine.base.Engine {}\n",
      "2023-12-05 12:53:14,168 INFO sqlalchemy.engine.base.Engine SELECT CAST('test unicode returns' AS VARCHAR(60)) AS anon_1\n",
      "2023-12-05 12:53:14,168 INFO sqlalchemy.engine.base.Engine {}\n",
      "2023-12-05 12:53:14,169 INFO sqlalchemy.engine.base.Engine show standard_conforming_strings\n",
      "2023-12-05 12:53:14,170 INFO sqlalchemy.engine.base.Engine {}\n",
      "2023-12-05 12:53:14,171 INFO sqlalchemy.engine.base.Engine \n",
      "CREATE TABLE asubv5.cc23_iucr_codes (\n",
      "iucr_code varchar(10) unique,\n",
      "iucr_index_code char,\n",
      "PRIMARY KEY (iucr_code)\n",
      ");\n",
      "\n",
      "2023-12-05 12:53:14,172 INFO sqlalchemy.engine.base.Engine {}\n",
      "2023-12-05 12:53:14,184 INFO sqlalchemy.engine.base.Engine COMMIT\n"
     ]
    },
    {
     "data": {
      "text/plain": [
       "<sqlalchemy.engine.result.ResultProxy at 0x7f6cec34f198>"
      ]
     },
     "execution_count": 3,
     "metadata": {},
     "output_type": "execute_result"
    }
   ],
   "source": [
    "sql = \"\"\"\n",
    "CREATE TABLE asubv5.cc23_iucr_codes (\n",
    "iucr_code varchar(10) unique,\n",
    "iucr_index_code char,\n",
    "PRIMARY KEY (iucr_code)\n",
    ");\n",
    "\"\"\"\n",
    "engine.execute(sql)"
   ]
  },
  {
   "cell_type": "code",
   "execution_count": 4,
   "metadata": {},
   "outputs": [
    {
     "name": "stdout",
     "output_type": "stream",
     "text": [
      "2023-12-05 12:53:15,896 INFO sqlalchemy.engine.base.Engine \n",
      "CREATE TABLE asubv5.cc23_fbi_nibrs_categories (\n",
      "    fbi_nibrs_category_name varchar(50) PRIMARY KEY\n",
      ");\n",
      "\n",
      "2023-12-05 12:53:15,897 INFO sqlalchemy.engine.base.Engine {}\n",
      "2023-12-05 12:53:15,904 INFO sqlalchemy.engine.base.Engine COMMIT\n"
     ]
    },
    {
     "data": {
      "text/plain": [
       "<sqlalchemy.engine.result.ResultProxy at 0x7f6ced4ce940>"
      ]
     },
     "execution_count": 4,
     "metadata": {},
     "output_type": "execute_result"
    }
   ],
   "source": [
    "sql = \"\"\"\n",
    "CREATE TABLE asubv5.cc23_fbi_nibrs_categories (\n",
    "    fbi_nibrs_category_name varchar(50) PRIMARY KEY\n",
    ");\n",
    "\"\"\"\n",
    "engine.execute(sql)"
   ]
  },
  {
   "cell_type": "code",
   "execution_count": 5,
   "metadata": {},
   "outputs": [
    {
     "name": "stdout",
     "output_type": "stream",
     "text": [
      "2023-12-05 12:53:19,088 INFO sqlalchemy.engine.base.Engine \n",
      "CREATE TABLE asubv5.cc23_nibrs_crimes_against (\n",
      "nibrs_crime_against varchar(20) unique NOT NULL,\n",
      "PRIMARY KEY (nibrs_crime_against)\n",
      ");\n",
      "\n",
      "2023-12-05 12:53:19,089 INFO sqlalchemy.engine.base.Engine {}\n",
      "2023-12-05 12:53:19,094 INFO sqlalchemy.engine.base.Engine COMMIT\n"
     ]
    },
    {
     "data": {
      "text/plain": [
       "<sqlalchemy.engine.result.ResultProxy at 0x7f6ced4ce3c8>"
      ]
     },
     "execution_count": 5,
     "metadata": {},
     "output_type": "execute_result"
    }
   ],
   "source": [
    "sql = \"\"\"\n",
    "CREATE TABLE asubv5.cc23_nibrs_crimes_against (\n",
    "nibrs_crime_against varchar(20) unique NOT NULL,\n",
    "PRIMARY KEY (nibrs_crime_against)\n",
    ");\n",
    "\"\"\"\n",
    "engine.execute(sql)"
   ]
  },
  {
   "cell_type": "code",
   "execution_count": 6,
   "metadata": {},
   "outputs": [
    {
     "name": "stdout",
     "output_type": "stream",
     "text": [
      "2023-12-05 12:53:20,140 INFO sqlalchemy.engine.base.Engine \n",
      "CREATE TABLE asubv5.cc23_iucr_codes_primary_descriptions (\n",
      "iucr_code varchar(10),\n",
      "iucr_primary_desc varchar(100),\n",
      "PRIMARY KEY (iucr_code),\n",
      "FOREIGN KEY (iucr_code) REFERENCES asubv5.cc23_iucr_codes(iucr_code)\n",
      ");\n",
      "\n",
      "2023-12-05 12:53:20,141 INFO sqlalchemy.engine.base.Engine {}\n",
      "2023-12-05 12:53:20,151 INFO sqlalchemy.engine.base.Engine COMMIT\n"
     ]
    },
    {
     "data": {
      "text/plain": [
       "<sqlalchemy.engine.result.ResultProxy at 0x7f6cf0fbfa90>"
      ]
     },
     "execution_count": 6,
     "metadata": {},
     "output_type": "execute_result"
    }
   ],
   "source": [
    "sql = \"\"\"\n",
    "CREATE TABLE asubv5.cc23_iucr_codes_primary_descriptions (\n",
    "iucr_code varchar(10),\n",
    "iucr_primary_desc varchar(100),\n",
    "PRIMARY KEY (iucr_code),\n",
    "FOREIGN KEY (iucr_code) REFERENCES asubv5.cc23_iucr_codes(iucr_code)\n",
    ");\n",
    "\"\"\"\n",
    "engine.execute(sql)"
   ]
  },
  {
   "cell_type": "code",
   "execution_count": 7,
   "metadata": {},
   "outputs": [
    {
     "name": "stdout",
     "output_type": "stream",
     "text": [
      "2023-12-05 12:53:21,275 INFO sqlalchemy.engine.base.Engine \n",
      "CREATE TABLE asubv5.cc23_iucr_codes_secondary_descriptions (\n",
      "iucr_code varchar(10),\n",
      "iucr_secondary_desc varchar(100),\n",
      "PRIMARY KEY (iucr_code),\n",
      "FOREIGN KEY (iucr_code) REFERENCES asubv5.cc23_iucr_codes(iucr_code)\n",
      ");\n",
      "\n",
      "\n",
      "2023-12-05 12:53:21,276 INFO sqlalchemy.engine.base.Engine {}\n",
      "2023-12-05 12:53:21,285 INFO sqlalchemy.engine.base.Engine COMMIT\n"
     ]
    },
    {
     "data": {
      "text/plain": [
       "<sqlalchemy.engine.result.ResultProxy at 0x7f6ced4756a0>"
      ]
     },
     "execution_count": 7,
     "metadata": {},
     "output_type": "execute_result"
    }
   ],
   "source": [
    "sql = \"\"\"\n",
    "CREATE TABLE asubv5.cc23_iucr_codes_secondary_descriptions (\n",
    "iucr_code varchar(10),\n",
    "iucr_secondary_desc varchar(100),\n",
    "PRIMARY KEY (iucr_code),\n",
    "FOREIGN KEY (iucr_code) REFERENCES asubv5.cc23_iucr_codes(iucr_code)\n",
    ");\n",
    "\n",
    "\"\"\"\n",
    "engine.execute(sql)"
   ]
  },
  {
   "cell_type": "code",
   "execution_count": 8,
   "metadata": {},
   "outputs": [
    {
     "name": "stdout",
     "output_type": "stream",
     "text": [
      "2023-12-05 12:53:22,313 INFO sqlalchemy.engine.base.Engine \n",
      "CREATE TABLE asubv5.cc23_case_location (\n",
      "    case_number varchar(20) unique,\n",
      "    block varchar(100),\n",
      "    location_description varchar(100),\n",
      "    community_area integer,\n",
      "    ward integer,\n",
      "    district integer,\n",
      "    beat integer,\n",
      "    latitude real,\n",
      "    longitude real,\n",
      "    PRIMARY KEY (case_number)\n",
      ");\n",
      "\n",
      "2023-12-05 12:53:22,314 INFO sqlalchemy.engine.base.Engine {}\n",
      "2023-12-05 12:53:22,320 INFO sqlalchemy.engine.base.Engine COMMIT\n"
     ]
    },
    {
     "data": {
      "text/plain": [
       "<sqlalchemy.engine.result.ResultProxy at 0x7f6cec34fe80>"
      ]
     },
     "execution_count": 8,
     "metadata": {},
     "output_type": "execute_result"
    }
   ],
   "source": [
    "sql = \"\"\"\n",
    "CREATE TABLE asubv5.cc23_case_location (\n",
    "    case_number varchar(20) unique,\n",
    "    block varchar(100),\n",
    "    location_description varchar(100),\n",
    "    community_area integer,\n",
    "    ward integer,\n",
    "    district integer,\n",
    "    beat integer,\n",
    "    latitude real,\n",
    "    longitude real,\n",
    "    PRIMARY KEY (case_number)\n",
    ");\n",
    "\"\"\"\n",
    "engine.execute(sql)"
   ]
  },
  {
   "cell_type": "code",
   "execution_count": 9,
   "metadata": {},
   "outputs": [
    {
     "name": "stdout",
     "output_type": "stream",
     "text": [
      "2023-12-05 12:53:23,300 INFO sqlalchemy.engine.base.Engine \n",
      "CREATE TABLE asubv5.cc23_fbi_nibrs_offense_categories (\n",
      "    nibrs_offense_code varchar(10) NOT NULL,\n",
      "    fbi_nibrs_category_name varchar(50),\n",
      "    PRIMARY KEY (nibrs_offense_code),\n",
      "    FOREIGN KEY (fbi_nibrs_category_name) REFERENCES asubv5.cc23_fbi_nibrs_categories(fbi_nibrs_category_name)\n",
      ");\n",
      "\n",
      "2023-12-05 12:53:23,301 INFO sqlalchemy.engine.base.Engine {}\n",
      "2023-12-05 12:53:23,310 INFO sqlalchemy.engine.base.Engine COMMIT\n"
     ]
    },
    {
     "data": {
      "text/plain": [
       "<sqlalchemy.engine.result.ResultProxy at 0x7f6cec34feb8>"
      ]
     },
     "execution_count": 9,
     "metadata": {},
     "output_type": "execute_result"
    }
   ],
   "source": [
    "sql = \"\"\"\n",
    "CREATE TABLE asubv5.cc23_fbi_nibrs_offense_categories (\n",
    "    nibrs_offense_code varchar(10) NOT NULL,\n",
    "    fbi_nibrs_category_name varchar(50),\n",
    "    PRIMARY KEY (nibrs_offense_code),\n",
    "    FOREIGN KEY (fbi_nibrs_category_name) REFERENCES asubv5.cc23_fbi_nibrs_categories(fbi_nibrs_category_name)\n",
    ");\n",
    "\"\"\"\n",
    "engine.execute(sql)"
   ]
  },
  {
   "cell_type": "code",
   "execution_count": 10,
   "metadata": {},
   "outputs": [
    {
     "name": "stdout",
     "output_type": "stream",
     "text": [
      "2023-12-05 12:53:24,300 INFO sqlalchemy.engine.base.Engine \n",
      "CREATE TABLE asubv5.cc23_nibrs_fbicode_offenses (\n",
      "nibrs_offense_code varchar(10) unique NOT NULL,\n",
      "nibrs_offense_name varchar(100) NOT NULL,\n",
      "PRIMARY KEY (nibrs_offense_code),\n",
      "FOREIGN KEY (nibrs_offense_code) REFERENCES asubv5.cc23_fbi_nibrs_offense_categories(nibrs_offense_code)\n",
      ");\n",
      "\n",
      "2023-12-05 12:53:24,301 INFO sqlalchemy.engine.base.Engine {}\n",
      "2023-12-05 12:53:24,310 INFO sqlalchemy.engine.base.Engine COMMIT\n"
     ]
    },
    {
     "data": {
      "text/plain": [
       "<sqlalchemy.engine.result.ResultProxy at 0x7f6cec34fdd8>"
      ]
     },
     "execution_count": 10,
     "metadata": {},
     "output_type": "execute_result"
    }
   ],
   "source": [
    "sql = \"\"\"\n",
    "CREATE TABLE asubv5.cc23_nibrs_fbicode_offenses (\n",
    "nibrs_offense_code varchar(10) unique NOT NULL,\n",
    "nibrs_offense_name varchar(100) NOT NULL,\n",
    "PRIMARY KEY (nibrs_offense_code),\n",
    "FOREIGN KEY (nibrs_offense_code) REFERENCES asubv5.cc23_fbi_nibrs_offense_categories(nibrs_offense_code)\n",
    ");\n",
    "\"\"\"\n",
    "engine.execute(sql)"
   ]
  },
  {
   "cell_type": "code",
   "execution_count": 12,
   "metadata": {},
   "outputs": [
    {
     "name": "stdout",
     "output_type": "stream",
     "text": [
      "2023-12-05 12:55:48,759 INFO sqlalchemy.engine.base.Engine \n",
      "CREATE TABLE asubv5.cc23_nibrs_offenses_crimes_aginst (\n",
      "nibrs_crime_against varchar(20),\n",
      "nibrs_offense_code varchar(10) NOT NULL,\n",
      "PRIMARY KEY (nibrs_crime_against,nibrs_offense_code),\n",
      "FOREIGN KEY (nibrs_crime_against) REFERENCES asubv5.cc23_nibrs_crimes_against(nibrs_crime_against),\n",
      "FOREIGN KEY (nibrs_offense_code) REFERENCES asubv5.cc23_nibrs_fbicode_offenses(nibrs_offense_code)\n",
      ");\n",
      "\n",
      "2023-12-05 12:55:48,760 INFO sqlalchemy.engine.base.Engine {}\n",
      "2023-12-05 12:55:48,813 INFO sqlalchemy.engine.base.Engine COMMIT\n"
     ]
    },
    {
     "data": {
      "text/plain": [
       "<sqlalchemy.engine.result.ResultProxy at 0x7f6cec0e68d0>"
      ]
     },
     "execution_count": 12,
     "metadata": {},
     "output_type": "execute_result"
    }
   ],
   "source": [
    "sql = \"\"\"\n",
    "CREATE TABLE asubv5.cc23_nibrs_offenses_crimes_aginst (\n",
    "nibrs_crime_against varchar(20),\n",
    "nibrs_offense_code varchar(10) NOT NULL,\n",
    "PRIMARY KEY (nibrs_crime_against,nibrs_offense_code),\n",
    "FOREIGN KEY (nibrs_crime_against) REFERENCES asubv5.cc23_nibrs_crimes_against(nibrs_crime_against),\n",
    "FOREIGN KEY (nibrs_offense_code) REFERENCES asubv5.cc23_nibrs_fbicode_offenses(nibrs_offense_code)\n",
    ");\n",
    "\"\"\"\n",
    "engine.execute(sql)"
   ]
  },
  {
   "cell_type": "code",
   "execution_count": 13,
   "metadata": {},
   "outputs": [
    {
     "name": "stdout",
     "output_type": "stream",
     "text": [
      "2023-12-05 12:55:51,725 INFO sqlalchemy.engine.base.Engine \n",
      "CREATE TABLE asubv5.cc23_cases (\n",
      "    case_number varchar(20) unique,\n",
      "    incident_date timestamp,\n",
      "    iucr_code varchar(10),\n",
      "    nibrs_fbi_offense_code varchar(10),\n",
      "    arrest boolean,\n",
      "    domestic boolean,\n",
      "    updated_on timestamp,\n",
      "    PRIMARY KEY (case_number),\n",
      "    FOREIGN KEY (iucr_code) REFERENCES asubv5.cc23_iucr_codes(iucr_code),\n",
      "    FOREIGN KEY (nibrs_fbi_offense_code) REFERENCES asubv5.cc23_nibrs_fbicode_offenses(nibrs_offense_code),\n",
      "    FOREIGN KEY (case_number) REFERENCES asubv5.cc23_case_location(case_number)\n",
      ");\n",
      "\n",
      "2023-12-05 12:55:51,726 INFO sqlalchemy.engine.base.Engine {}\n",
      "2023-12-05 12:55:51,734 INFO sqlalchemy.engine.base.Engine COMMIT\n"
     ]
    },
    {
     "data": {
      "text/plain": [
       "<sqlalchemy.engine.result.ResultProxy at 0x7f6ced4de2e8>"
      ]
     },
     "execution_count": 13,
     "metadata": {},
     "output_type": "execute_result"
    }
   ],
   "source": [
    "sql = \"\"\"\n",
    "CREATE TABLE asubv5.cc23_cases (\n",
    "    case_number varchar(20) unique,\n",
    "    incident_date timestamp,\n",
    "    iucr_code varchar(10),\n",
    "    nibrs_fbi_offense_code varchar(10),\n",
    "    arrest boolean,\n",
    "    domestic boolean,\n",
    "    updated_on timestamp,\n",
    "    PRIMARY KEY (case_number),\n",
    "    FOREIGN KEY (iucr_code) REFERENCES asubv5.cc23_iucr_codes(iucr_code),\n",
    "    FOREIGN KEY (nibrs_fbi_offense_code) REFERENCES asubv5.cc23_nibrs_fbicode_offenses(nibrs_offense_code),\n",
    "    FOREIGN KEY (case_number) REFERENCES asubv5.cc23_case_location(case_number)\n",
    ");\n",
    "\"\"\"\n",
    "engine.execute(sql)"
   ]
  },
  {
   "cell_type": "code",
   "execution_count": 3,
   "metadata": {},
   "outputs": [],
   "source": [
    "# Some imports\n",
    "\n",
    "import pandas as pd\n",
    "import numpy as np\n",
    "from sqlalchemy.engine.url import URL\n",
    "from sqlalchemy import create_engine\n"
   ]
  },
  {
   "cell_type": "markdown",
   "metadata": {},
   "source": [
    "### Database connections"
   ]
  },
  {
   "cell_type": "code",
   "execution_count": 3,
   "metadata": {},
   "outputs": [],
   "source": [
    "# Connecting to the sqlite database\n",
    "engine=create_engine('sqlite:////dsa/data/DSA-7030/cc23_7030.sqlite.db', encoding ='utf-8') "
   ]
  },
  {
   "cell_type": "code",
   "execution_count": 1,
   "metadata": {},
   "outputs": [
    {
     "name": "stdout",
     "output_type": "stream",
     "text": [
      "········\n"
     ]
    }
   ],
   "source": [
    "# Connecting to postgres database\n",
    "import getpass\n",
    "mypasswd = getpass.getpass()\n",
    "username = 'asubv5'\n",
    "host = 'pgsql.dsa.lan'\n",
    "database = 'dsa_student'"
   ]
  },
  {
   "cell_type": "code",
   "execution_count": 4,
   "metadata": {},
   "outputs": [],
   "source": [
    "postgres_db = {'drivername': 'postgres',\n",
    "               'username': username,\n",
    "               'password': mypasswd,\n",
    "               'host': host,\n",
    "               'database' :database}\n",
    "newengine = create_engine(URL(**postgres_db), echo=False)"
   ]
  },
  {
   "cell_type": "markdown",
   "metadata": {},
   "source": [
    "### Fetching and inserting data"
   ]
  },
  {
   "cell_type": "code",
   "execution_count": null,
   "metadata": {},
   "outputs": [],
   "source": [
    "# cc23_iucr_codes"
   ]
  },
  {
   "cell_type": "code",
   "execution_count": 9,
   "metadata": {},
   "outputs": [],
   "source": [
    "cc23_iucr_codes = pd.read_sql_query('select * from cc23_iucr_codes;', engine)"
   ]
  },
  {
   "cell_type": "code",
   "execution_count": 11,
   "metadata": {},
   "outputs": [],
   "source": [
    "cc23_iucr_codes.to_sql('cc23_iucr_codes',\n",
    "            newengine,\n",
    "            schema = 'asubv5',\n",
    "            if_exists = 'append',\n",
    "            index = False)"
   ]
  },
  {
   "cell_type": "code",
   "execution_count": null,
   "metadata": {},
   "outputs": [],
   "source": [
    "# cc23_iucr_codes_primary_descriptions"
   ]
  },
  {
   "cell_type": "code",
   "execution_count": 12,
   "metadata": {},
   "outputs": [],
   "source": [
    "cc23_iucr_codes_primary_descriptions = pd.read_sql_query('select * from cc23_iucr_codes_primary_descriptions;', engine)"
   ]
  },
  {
   "cell_type": "code",
   "execution_count": 13,
   "metadata": {},
   "outputs": [],
   "source": [
    "cc23_iucr_codes_primary_descriptions.to_sql('cc23_iucr_codes_primary_descriptions',\n",
    "            newengine,\n",
    "            schema = 'asubv5',\n",
    "            if_exists = 'append',\n",
    "            index = False)"
   ]
  },
  {
   "cell_type": "code",
   "execution_count": null,
   "metadata": {},
   "outputs": [],
   "source": [
    "# cc23_iucr_codes_secondary_descriptions"
   ]
  },
  {
   "cell_type": "code",
   "execution_count": 14,
   "metadata": {},
   "outputs": [],
   "source": [
    "cc23_iucr_codes_secondary_descriptions = pd.read_sql_query('select * from cc23_iucr_codes_secondary_descriptions;', engine)"
   ]
  },
  {
   "cell_type": "code",
   "execution_count": 15,
   "metadata": {},
   "outputs": [],
   "source": [
    "cc23_iucr_codes_secondary_descriptions.to_sql('cc23_iucr_codes_secondary_descriptions',\n",
    "            newengine,\n",
    "            schema = 'asubv5',\n",
    "            if_exists = 'append',\n",
    "            index = False)"
   ]
  },
  {
   "cell_type": "code",
   "execution_count": null,
   "metadata": {},
   "outputs": [],
   "source": [
    "# cc23_fbi_nibrs_categories"
   ]
  },
  {
   "cell_type": "code",
   "execution_count": 16,
   "metadata": {},
   "outputs": [],
   "source": [
    "cc23_fbi_nibrs_categories = pd.read_sql_query('select * from cc23_fbi_nibrs_categories;', engine)"
   ]
  },
  {
   "cell_type": "code",
   "execution_count": 17,
   "metadata": {},
   "outputs": [],
   "source": [
    "cc23_fbi_nibrs_categories.to_sql('cc23_fbi_nibrs_categories',\n",
    "            newengine,\n",
    "            schema = 'asubv5',\n",
    "            if_exists = 'append',\n",
    "            index = False)"
   ]
  },
  {
   "cell_type": "code",
   "execution_count": null,
   "metadata": {},
   "outputs": [],
   "source": [
    "# cc23_nibrs_crimes_against"
   ]
  },
  {
   "cell_type": "code",
   "execution_count": 18,
   "metadata": {},
   "outputs": [],
   "source": [
    "cc23_nibrs_crimes_against = pd.read_sql_query('select * from cc23_nibrs_crimes_against;', engine)"
   ]
  },
  {
   "cell_type": "code",
   "execution_count": 19,
   "metadata": {},
   "outputs": [],
   "source": [
    "cc23_nibrs_crimes_against.to_sql('cc23_nibrs_crimes_against',\n",
    "            newengine,\n",
    "            schema = 'asubv5',\n",
    "            if_exists = 'append',\n",
    "            index = False)"
   ]
  },
  {
   "cell_type": "code",
   "execution_count": null,
   "metadata": {},
   "outputs": [],
   "source": [
    "# cc23_fbi_nibrs_offense_categories"
   ]
  },
  {
   "cell_type": "code",
   "execution_count": 20,
   "metadata": {},
   "outputs": [],
   "source": [
    "cc23_fbi_nibrs_offense_categories = pd.read_sql_query('select * from cc23_fbi_nibrs_offense_categories;', engine)"
   ]
  },
  {
   "cell_type": "code",
   "execution_count": 21,
   "metadata": {},
   "outputs": [],
   "source": [
    "cc23_fbi_nibrs_offense_categories.to_sql('cc23_fbi_nibrs_offense_categories',\n",
    "            newengine,\n",
    "            schema = 'asubv5',\n",
    "            if_exists = 'append',\n",
    "            index = False)"
   ]
  },
  {
   "cell_type": "code",
   "execution_count": null,
   "metadata": {},
   "outputs": [],
   "source": [
    "# cc23_nibrs_fbicode_offenses"
   ]
  },
  {
   "cell_type": "code",
   "execution_count": 22,
   "metadata": {},
   "outputs": [],
   "source": [
    "cc23_nibrs_fbicode_offenses = pd.read_sql_query('select * from cc23_nibrs_fbicode_offenses;', engine)"
   ]
  },
  {
   "cell_type": "code",
   "execution_count": 23,
   "metadata": {},
   "outputs": [],
   "source": [
    "cc23_nibrs_fbicode_offenses.to_sql('cc23_nibrs_fbicode_offenses',\n",
    "            newengine,\n",
    "            schema = 'asubv5',\n",
    "            if_exists = 'append',\n",
    "            index = False)"
   ]
  },
  {
   "cell_type": "code",
   "execution_count": null,
   "metadata": {},
   "outputs": [],
   "source": [
    "# cc23_nibrs_offenses_crimes_aginst"
   ]
  },
  {
   "cell_type": "code",
   "execution_count": 24,
   "metadata": {},
   "outputs": [],
   "source": [
    "cc23_nibrs_offenses_crimes_aginst = pd.read_sql_query('select * from cc23_nibrs_offenses_crimes_aginst;', engine)"
   ]
  },
  {
   "cell_type": "code",
   "execution_count": 25,
   "metadata": {},
   "outputs": [],
   "source": [
    "cc23_nibrs_offenses_crimes_aginst.to_sql('cc23_nibrs_offenses_crimes_aginst',\n",
    "            newengine,\n",
    "            schema = 'asubv5',\n",
    "            if_exists = 'append',\n",
    "            index = False)"
   ]
  },
  {
   "cell_type": "code",
   "execution_count": null,
   "metadata": {},
   "outputs": [],
   "source": [
    "# cc23_case_location"
   ]
  },
  {
   "cell_type": "code",
   "execution_count": 5,
   "metadata": {},
   "outputs": [],
   "source": [
    "table_name = 'cc23_case_location'\n",
    "schema_name = 'asubv5'\n",
    "chunk_size = 50000 \n",
    "total_rows = pd.read_sql_query(f'SELECT COUNT(*) as count FROM {table_name};', engine)['count'][0]\n",
    "\n",
    "for offset in range(0, total_rows, chunk_size):\n",
    "    query = f'SELECT * FROM {table_name} LIMIT {chunk_size} OFFSET {offset};'\n",
    "    chunk = pd.read_sql_query(query, engine)\n",
    "    \n",
    "    chunk.to_sql(table_name, newengine, schema=schema_name, if_exists='append', index=False, method='multi')"
   ]
  },
  {
   "cell_type": "code",
   "execution_count": null,
   "metadata": {},
   "outputs": [],
   "source": [
    "# cc23_cases"
   ]
  },
  {
   "cell_type": "code",
   "execution_count": 7,
   "metadata": {},
   "outputs": [],
   "source": [
    "table_name = 'cc23_cases'\n",
    "schema_name = 'asubv5'\n",
    "chunk_size = 50000 \n",
    "total_rows = pd.read_sql_query(f'SELECT COUNT(*) as count FROM {table_name};', engine)['count'][0]\n",
    "\n",
    "for offset in range(0, total_rows, chunk_size):\n",
    "    query = f'SELECT * FROM {table_name} LIMIT {chunk_size} OFFSET {offset};'\n",
    "    chunk = pd.read_sql_query(query, engine)\n",
    "    \n",
    "    chunk['arrest'] = chunk['arrest'].astype(bool)\n",
    "    chunk['domestic'] = chunk['domestic'].astype(bool)\n",
    "    \n",
    "    chunk.to_sql(table_name, newengine, schema=schema_name, if_exists='append', index=False, method='multi')"
   ]
  },
  {
   "cell_type": "markdown",
   "metadata": {},
   "source": [
    "### Random test code (Ignore)"
   ]
  },
  {
   "cell_type": "code",
   "execution_count": null,
   "metadata": {},
   "outputs": [],
   "source": [
    "# Fetching data from tables in the sqlite database\n",
    "\n",
    "# case_location = pd.read_sql_query(\"SELECT * FROM cc23_case_location limit 1000;\", engine)\n",
    "\n",
    "# with engine.connect() as conn, conn.begin():\n",
    "#      data = pd.concat(pd.read_sql_table(\"cc23_case_location\", conn, chunksize = 5000))"
   ]
  },
  {
   "cell_type": "code",
   "execution_count": null,
   "metadata": {},
   "outputs": [],
   "source": [
    "# chunk_size = 500\n",
    "# chunks = []\n",
    "\n",
    "# Using a loop to read and concatenate data in chunks\n",
    "# for chunk in pd.read_sql_table('cc23_case_location', engine, chunksize=chunk_size):\n",
    "#     chunks.append(chunk)\n",
    "\n",
    "# Concatenate all chunks into a single DataFrame\n",
    "#data = pd.concat(chunks, ignore_index=True)"
   ]
  },
  {
   "cell_type": "code",
   "execution_count": null,
   "metadata": {},
   "outputs": [],
   "source": [
    "# sql = 'SELECT * FROM cc23_case_location;'\n",
    "# case_location = pd.concat(pd.read_sql(sql, engine, chunksize=5000))"
   ]
  },
  {
   "cell_type": "markdown",
   "metadata": {},
   "source": [
    "# Comparing row counts from SQlite database and Postgres"
   ]
  },
  {
   "cell_type": "code",
   "execution_count": null,
   "metadata": {},
   "outputs": [],
   "source": [
    "# cc23_case_location"
   ]
  },
  {
   "cell_type": "code",
   "execution_count": 15,
   "metadata": {},
   "outputs": [
    {
     "name": "stdout",
     "output_type": "stream",
     "text": [
      " * sqlite:////dsa/data/DSA-7030/cc23_7030.sqlite.db\n",
      "Done.\n"
     ]
    },
    {
     "data": {
      "text/html": [
       "<table>\n",
       "    <tr>\n",
       "        <th>count(*)</th>\n",
       "    </tr>\n",
       "    <tr>\n",
       "        <td>7932599</td>\n",
       "    </tr>\n",
       "</table>"
      ],
      "text/plain": [
       "[(7932599,)]"
      ]
     },
     "execution_count": 15,
     "metadata": {},
     "output_type": "execute_result"
    }
   ],
   "source": [
    "%%sql\n",
    "select count(*) from cc23_case_location;"
   ]
  },
  {
   "cell_type": "code",
   "execution_count": 15,
   "metadata": {},
   "outputs": [
    {
     "data": {
      "text/plain": [
       "[(7932599,)]"
      ]
     },
     "execution_count": 15,
     "metadata": {},
     "output_type": "execute_result"
    }
   ],
   "source": [
    "sql = 'select count(*) from cc23_case_location;'\n",
    "newengine.execute(sql).fetchall()\n"
   ]
  },
  {
   "cell_type": "code",
   "execution_count": null,
   "metadata": {},
   "outputs": [],
   "source": [
    "# cc23_cases"
   ]
  },
  {
   "cell_type": "code",
   "execution_count": 16,
   "metadata": {},
   "outputs": [
    {
     "name": "stdout",
     "output_type": "stream",
     "text": [
      " * sqlite:////dsa/data/DSA-7030/cc23_7030.sqlite.db\n",
      "Done.\n"
     ]
    },
    {
     "data": {
      "text/html": [
       "<table>\n",
       "    <tr>\n",
       "        <th>count(*)</th>\n",
       "    </tr>\n",
       "    <tr>\n",
       "        <td>7932599</td>\n",
       "    </tr>\n",
       "</table>"
      ],
      "text/plain": [
       "[(7932599,)]"
      ]
     },
     "execution_count": 16,
     "metadata": {},
     "output_type": "execute_result"
    }
   ],
   "source": [
    "%%sql\n",
    "select count(*) from cc23_cases;"
   ]
  },
  {
   "cell_type": "code",
   "execution_count": 16,
   "metadata": {},
   "outputs": [
    {
     "data": {
      "text/plain": [
       "[(7932599,)]"
      ]
     },
     "execution_count": 16,
     "metadata": {},
     "output_type": "execute_result"
    }
   ],
   "source": [
    "sql = 'select count(*) from cc23_cases;'\n",
    "newengine.execute(sql).fetchall()"
   ]
  },
  {
   "cell_type": "code",
   "execution_count": null,
   "metadata": {},
   "outputs": [],
   "source": [
    "# cc23_iucr_codes"
   ]
  },
  {
   "cell_type": "code",
   "execution_count": 18,
   "metadata": {},
   "outputs": [
    {
     "name": "stdout",
     "output_type": "stream",
     "text": [
      " * sqlite:////dsa/data/DSA-7030/cc23_7030.sqlite.db\n",
      "Done.\n"
     ]
    },
    {
     "data": {
      "text/html": [
       "<table>\n",
       "    <tr>\n",
       "        <th>count(*)</th>\n",
       "    </tr>\n",
       "    <tr>\n",
       "        <td>420</td>\n",
       "    </tr>\n",
       "</table>"
      ],
      "text/plain": [
       "[(420,)]"
      ]
     },
     "execution_count": 18,
     "metadata": {},
     "output_type": "execute_result"
    }
   ],
   "source": [
    "%%sql\n",
    "select count(*) from cc23_iucr_codes;"
   ]
  },
  {
   "cell_type": "code",
   "execution_count": 17,
   "metadata": {},
   "outputs": [
    {
     "data": {
      "text/plain": [
       "[(420,)]"
      ]
     },
     "execution_count": 17,
     "metadata": {},
     "output_type": "execute_result"
    }
   ],
   "source": [
    "sql = 'select count(*) from cc23_iucr_codes;'\n",
    "newengine.execute(sql).fetchall()"
   ]
  },
  {
   "cell_type": "code",
   "execution_count": null,
   "metadata": {},
   "outputs": [],
   "source": [
    "# cc23_iucr_codes_primary_descriptions"
   ]
  },
  {
   "cell_type": "code",
   "execution_count": 19,
   "metadata": {},
   "outputs": [
    {
     "name": "stdout",
     "output_type": "stream",
     "text": [
      " * sqlite:////dsa/data/DSA-7030/cc23_7030.sqlite.db\n",
      "Done.\n"
     ]
    },
    {
     "data": {
      "text/html": [
       "<table>\n",
       "    <tr>\n",
       "        <th>count(*)</th>\n",
       "    </tr>\n",
       "    <tr>\n",
       "        <td>420</td>\n",
       "    </tr>\n",
       "</table>"
      ],
      "text/plain": [
       "[(420,)]"
      ]
     },
     "execution_count": 19,
     "metadata": {},
     "output_type": "execute_result"
    }
   ],
   "source": [
    "%%sql\n",
    "select count(*) from cc23_iucr_codes_primary_descriptions;"
   ]
  },
  {
   "cell_type": "code",
   "execution_count": 18,
   "metadata": {},
   "outputs": [
    {
     "data": {
      "text/plain": [
       "[(420,)]"
      ]
     },
     "execution_count": 18,
     "metadata": {},
     "output_type": "execute_result"
    }
   ],
   "source": [
    "sql = 'select count(*) from cc23_iucr_codes_primary_descriptions;'\n",
    "newengine.execute(sql).fetchall()"
   ]
  },
  {
   "cell_type": "code",
   "execution_count": null,
   "metadata": {},
   "outputs": [],
   "source": [
    "# cc23_iucr_codes_secondary_descriptions"
   ]
  },
  {
   "cell_type": "code",
   "execution_count": 20,
   "metadata": {},
   "outputs": [
    {
     "name": "stdout",
     "output_type": "stream",
     "text": [
      " * sqlite:////dsa/data/DSA-7030/cc23_7030.sqlite.db\n",
      "Done.\n"
     ]
    },
    {
     "data": {
      "text/html": [
       "<table>\n",
       "    <tr>\n",
       "        <th>count(*)</th>\n",
       "    </tr>\n",
       "    <tr>\n",
       "        <td>420</td>\n",
       "    </tr>\n",
       "</table>"
      ],
      "text/plain": [
       "[(420,)]"
      ]
     },
     "execution_count": 20,
     "metadata": {},
     "output_type": "execute_result"
    }
   ],
   "source": [
    "%%sql\n",
    "select count(*) from cc23_iucr_codes_secondary_descriptions;"
   ]
  },
  {
   "cell_type": "code",
   "execution_count": 19,
   "metadata": {},
   "outputs": [
    {
     "data": {
      "text/plain": [
       "[(420,)]"
      ]
     },
     "execution_count": 19,
     "metadata": {},
     "output_type": "execute_result"
    }
   ],
   "source": [
    "sql = 'select count(*) from cc23_iucr_codes_secondary_descriptions;'\n",
    "newengine.execute(sql).fetchall()"
   ]
  },
  {
   "cell_type": "code",
   "execution_count": null,
   "metadata": {},
   "outputs": [],
   "source": [
    "# cc23_nibrs_fbicode_offenses"
   ]
  },
  {
   "cell_type": "code",
   "execution_count": 21,
   "metadata": {},
   "outputs": [
    {
     "name": "stdout",
     "output_type": "stream",
     "text": [
      " * sqlite:////dsa/data/DSA-7030/cc23_7030.sqlite.db\n",
      "Done.\n"
     ]
    },
    {
     "data": {
      "text/html": [
       "<table>\n",
       "    <tr>\n",
       "        <th>count(*)</th>\n",
       "    </tr>\n",
       "    <tr>\n",
       "        <td>91</td>\n",
       "    </tr>\n",
       "</table>"
      ],
      "text/plain": [
       "[(91,)]"
      ]
     },
     "execution_count": 21,
     "metadata": {},
     "output_type": "execute_result"
    }
   ],
   "source": [
    "%%sql\n",
    "select count(*) from cc23_nibrs_fbicode_offenses;"
   ]
  },
  {
   "cell_type": "code",
   "execution_count": 20,
   "metadata": {},
   "outputs": [
    {
     "data": {
      "text/plain": [
       "[(91,)]"
      ]
     },
     "execution_count": 20,
     "metadata": {},
     "output_type": "execute_result"
    }
   ],
   "source": [
    "sql = 'select count(*) from cc23_nibrs_fbicode_offenses;'\n",
    "newengine.execute(sql).fetchall()"
   ]
  },
  {
   "cell_type": "code",
   "execution_count": null,
   "metadata": {},
   "outputs": [],
   "source": [
    "# cc23_fbi_nibrs_offense_categories"
   ]
  },
  {
   "cell_type": "code",
   "execution_count": 22,
   "metadata": {},
   "outputs": [
    {
     "name": "stdout",
     "output_type": "stream",
     "text": [
      " * sqlite:////dsa/data/DSA-7030/cc23_7030.sqlite.db\n",
      "Done.\n"
     ]
    },
    {
     "data": {
      "text/html": [
       "<table>\n",
       "    <tr>\n",
       "        <th>count(*)</th>\n",
       "    </tr>\n",
       "    <tr>\n",
       "        <td>91</td>\n",
       "    </tr>\n",
       "</table>"
      ],
      "text/plain": [
       "[(91,)]"
      ]
     },
     "execution_count": 22,
     "metadata": {},
     "output_type": "execute_result"
    }
   ],
   "source": [
    "%%sql\n",
    "select count(*) from cc23_fbi_nibrs_offense_categories;"
   ]
  },
  {
   "cell_type": "code",
   "execution_count": 21,
   "metadata": {},
   "outputs": [
    {
     "data": {
      "text/plain": [
       "[(91,)]"
      ]
     },
     "execution_count": 21,
     "metadata": {},
     "output_type": "execute_result"
    }
   ],
   "source": [
    "sql = 'select count(*) from cc23_fbi_nibrs_offense_categories;'\n",
    "newengine.execute(sql).fetchall()"
   ]
  },
  {
   "cell_type": "code",
   "execution_count": null,
   "metadata": {},
   "outputs": [],
   "source": [
    "# cc23_nibrs_offenses_crimes_aginst"
   ]
  },
  {
   "cell_type": "code",
   "execution_count": 23,
   "metadata": {},
   "outputs": [
    {
     "name": "stdout",
     "output_type": "stream",
     "text": [
      " * sqlite:////dsa/data/DSA-7030/cc23_7030.sqlite.db\n",
      "Done.\n"
     ]
    },
    {
     "data": {
      "text/html": [
       "<table>\n",
       "    <tr>\n",
       "        <th>count(*)</th>\n",
       "    </tr>\n",
       "    <tr>\n",
       "        <td>90</td>\n",
       "    </tr>\n",
       "</table>"
      ],
      "text/plain": [
       "[(90,)]"
      ]
     },
     "execution_count": 23,
     "metadata": {},
     "output_type": "execute_result"
    }
   ],
   "source": [
    "%%sql\n",
    "select count(*) from cc23_nibrs_offenses_crimes_aginst;"
   ]
  },
  {
   "cell_type": "code",
   "execution_count": 22,
   "metadata": {},
   "outputs": [
    {
     "data": {
      "text/plain": [
       "[(90,)]"
      ]
     },
     "execution_count": 22,
     "metadata": {},
     "output_type": "execute_result"
    }
   ],
   "source": [
    "sql = 'select count(*) from cc23_nibrs_offenses_crimes_aginst;'\n",
    "newengine.execute(sql).fetchall()"
   ]
  },
  {
   "cell_type": "code",
   "execution_count": null,
   "metadata": {},
   "outputs": [],
   "source": [
    "# cc23_fbi_nibrs_categories"
   ]
  },
  {
   "cell_type": "code",
   "execution_count": 24,
   "metadata": {},
   "outputs": [
    {
     "name": "stdout",
     "output_type": "stream",
     "text": [
      " * sqlite:////dsa/data/DSA-7030/cc23_7030.sqlite.db\n",
      "Done.\n"
     ]
    },
    {
     "data": {
      "text/html": [
       "<table>\n",
       "    <tr>\n",
       "        <th>count(*)</th>\n",
       "    </tr>\n",
       "    <tr>\n",
       "        <td>36</td>\n",
       "    </tr>\n",
       "</table>"
      ],
      "text/plain": [
       "[(36,)]"
      ]
     },
     "execution_count": 24,
     "metadata": {},
     "output_type": "execute_result"
    }
   ],
   "source": [
    "%%sql\n",
    "select count(*) from cc23_fbi_nibrs_categories;"
   ]
  },
  {
   "cell_type": "code",
   "execution_count": 24,
   "metadata": {},
   "outputs": [
    {
     "data": {
      "text/plain": [
       "[(36,)]"
      ]
     },
     "execution_count": 24,
     "metadata": {},
     "output_type": "execute_result"
    }
   ],
   "source": [
    "sql = 'select count(*) from cc23_fbi_nibrs_categories;'\n",
    "newengine.execute(sql).fetchall()"
   ]
  },
  {
   "cell_type": "code",
   "execution_count": null,
   "metadata": {},
   "outputs": [],
   "source": [
    "# cc23_nibrs_crimes_against"
   ]
  },
  {
   "cell_type": "code",
   "execution_count": 25,
   "metadata": {},
   "outputs": [
    {
     "name": "stdout",
     "output_type": "stream",
     "text": [
      " * sqlite:////dsa/data/DSA-7030/cc23_7030.sqlite.db\n",
      "Done.\n"
     ]
    },
    {
     "data": {
      "text/html": [
       "<table>\n",
       "    <tr>\n",
       "        <th>count(*)</th>\n",
       "    </tr>\n",
       "    <tr>\n",
       "        <td>4</td>\n",
       "    </tr>\n",
       "</table>"
      ],
      "text/plain": [
       "[(4,)]"
      ]
     },
     "execution_count": 25,
     "metadata": {},
     "output_type": "execute_result"
    }
   ],
   "source": [
    "%%sql\n",
    "select count(*) from cc23_nibrs_crimes_against;"
   ]
  },
  {
   "cell_type": "code",
   "execution_count": 23,
   "metadata": {},
   "outputs": [
    {
     "data": {
      "text/plain": [
       "[(4,)]"
      ]
     },
     "execution_count": 23,
     "metadata": {},
     "output_type": "execute_result"
    }
   ],
   "source": [
    "sql = 'select count(*) from cc23_nibrs_crimes_against;'\n",
    "newengine.execute(sql).fetchall()"
   ]
  }
 ],
 "metadata": {
  "kernelspec": {
   "display_name": "Python 3",
   "language": "python",
   "name": "python3"
  },
  "language_info": {
   "codemirror_mode": {
    "name": "ipython",
    "version": 3
   },
   "file_extension": ".py",
   "mimetype": "text/x-python",
   "name": "python",
   "nbconvert_exporter": "python",
   "pygments_lexer": "ipython3",
   "version": "3.7.3"
  },
  "latex_envs": {
   "LaTeX_envs_menu_present": true,
   "bibliofile": "biblio.bib",
   "cite_by": "apalike",
   "current_citInitial": 1,
   "eqLabelWithNumbers": true,
   "eqNumInitial": 1,
   "labels_anchors": false,
   "latex_user_defs": false,
   "report_style_numbering": false,
   "user_envs_cfg": false
  },
  "toc": {
   "colors": {
    "hover_highlight": "#DAA520",
    "running_highlight": "#FF0000",
    "selected_highlight": "#FFD700"
   },
   "moveMenuLeft": true,
   "nav_menu": {
    "height": "11.9886px",
    "width": "251.989px"
   },
   "navigate_menu": true,
   "number_sections": true,
   "sideBar": true,
   "threshold": 4,
   "toc_cell": true,
   "toc_section_display": "block",
   "toc_window_display": false
  }
 },
 "nbformat": 4,
 "nbformat_minor": 4
}
